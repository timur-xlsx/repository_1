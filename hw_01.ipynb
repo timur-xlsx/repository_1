{
  "nbformat": 4,
  "nbformat_minor": 0,
  "metadata": {
    "colab": {
      "provenance": []
    },
    "kernelspec": {
      "name": "python3",
      "display_name": "Python 3"
    },
    "language_info": {
      "name": "python"
    }
  },
  "cells": [
    {
      "cell_type": "markdown",
      "source": [
        "<p>Создайте класс Chocolate (для определения шоколадного батончика), принимающий следующие аргументы при инициализации: цена батончика (тип - float), добавка к шоколаду (необязательный аргумент, тип - str) - 2 балла</p>\n",
        "<p>При инициализации необходимо проверять, чтобы цена батончика была больше нуля, если цена меньше нуля необходимо вызывать исключение ValueError - 2 балла\n",
        "Реализуйте метод show_my_chocolate, выводящий на печать \"Шоколадный батончик, добавка: {ДОБАВКА}\" в случае наличия добавки, а иначе должна отобразиться следующая фраза: \"Обычный шоколадный батончик\" - 2 балла</p>\n",
        "<p>Переопределите метод __str__, который при применении функции print() к объекты класса Chocolate должен возвращать строку \"Шоколадный батончик, <ЦЕНА> рублей\" - 2 балла</p>\n",
        "<p>Продемонстрируйте использование соответствующего функционала вашего класса, создав несколько объектов Chocolate с различными аргументами - 2 балла</p>"
      ],
      "metadata": {
        "id": "2KhZrvyeISln"
      }
    },
    {
      "cell_type": "code",
      "execution_count": null,
      "metadata": {
        "id": "zNF-grqX4jLw"
      },
      "outputs": [],
      "source": [
        "# Создайте класс Chocolate (для определения шоколадного батончика),\n",
        "# принимающий следующие аргументы при инициализации:\n",
        "# цена батончика (тип - float), добавка к шоколаду (необязательный аргумент, тип - str)\n",
        "class Chocolate:\n",
        "    def __init__(self, price: float, addition: str = None):\n",
        "        # При инициализации необходимо проверять, чтобы цена батончика была больше нуля, если цена меньше нуля необходимо вызывать исключение ValueError\n",
        "        if price <= 0:\n",
        "            raise ValueError(\"Цена батончика должна быть больше нуля.\")\n",
        "        self.price = price\n",
        "        self.addition = addition\n",
        "\n",
        "    def show_my_chocolate(self):\n",
        "        # Реализуйте метод show_my_chocolate, выводящий на печать \"Шоколадный батончик, добавка: {ДОБАВКА}\" в случае наличия добавки,\n",
        "        # а иначе должна отобразиться следующая фраза: \"Обычный шоколадный батончик\"\n",
        "        if self.addition:\n",
        "            print(f\"Шоколадный батончик, добавка: {self.addition}\")\n",
        "        else:\n",
        "            print(\"Обычный шоколадный батончик\")\n",
        "\n",
        "    # Переопределите метод __str__, который при применении функции print() к объекты класса Chocolate должен возвращать строку \"Шоколадный батончик, <ЦЕНА> рублей\"\n",
        "    def __str__(self):\n",
        "        return f\"Шоколадный батончик, {self.price} рублей\""
      ]
    },
    {
      "cell_type": "markdown",
      "source": [
        "**Проверка**"
      ],
      "metadata": {
        "id": "21vSX79EMI4B"
      }
    },
    {
      "cell_type": "code",
      "source": [
        "# С добавкой\n",
        "chocolate1 = Chocolate(100.0, \"кокосовая стружка\")\n",
        "chocolate1.show_my_chocolate()\n",
        "print(chocolate1)"
      ],
      "metadata": {
        "colab": {
          "base_uri": "https://localhost:8080/"
        },
        "id": "Q7wgZupDJalm",
        "outputId": "0fa32ba3-58ba-4f34-8b10-ea9d1feb6cb8"
      },
      "execution_count": null,
      "outputs": [
        {
          "output_type": "stream",
          "name": "stdout",
          "text": [
            "Шоколадный батончик, добавка: кокосовая стружка\n",
            "Шоколадный батончик, 100.0 рублей\n"
          ]
        }
      ]
    },
    {
      "cell_type": "code",
      "source": [
        "# Без добавки\n",
        "chocolate2 = Chocolate(50.0)\n",
        "chocolate2.show_my_chocolate()\n",
        "print(chocolate2)"
      ],
      "metadata": {
        "colab": {
          "base_uri": "https://localhost:8080/"
        },
        "id": "oRbIuLfDJm-h",
        "outputId": "4021a56b-3536-4880-b242-85b419ac1416"
      },
      "execution_count": null,
      "outputs": [
        {
          "output_type": "stream",
          "name": "stdout",
          "text": [
            "Обычный шоколадный батончик\n",
            "Шоколадный батончик, 50.0 рублей\n"
          ]
        }
      ]
    },
    {
      "cell_type": "code",
      "source": [
        "# С ошибкой\n",
        "chocolate3 = Chocolate(-10.0)\n",
        "chocolate3.show_my_chocolate()\n",
        "print(chocolate3)"
      ],
      "metadata": {
        "colab": {
          "base_uri": "https://localhost:8080/",
          "height": 315
        },
        "id": "jtIry5uPIZbl",
        "outputId": "013314be-2240-4e5f-ab0e-baf1e3466708"
      },
      "execution_count": null,
      "outputs": [
        {
          "output_type": "error",
          "ename": "ValueError",
          "evalue": "Цена батончика должна быть больше нуля.",
          "traceback": [
            "\u001b[0;31m---------------------------------------------------------------------------\u001b[0m",
            "\u001b[0;31mValueError\u001b[0m                                Traceback (most recent call last)",
            "\u001b[0;32m<ipython-input-11-88aa3e1f4501>\u001b[0m in \u001b[0;36m<cell line: 2>\u001b[0;34m()\u001b[0m\n\u001b[1;32m      1\u001b[0m \u001b[0;31m# С ошибкой\u001b[0m\u001b[0;34m\u001b[0m\u001b[0;34m\u001b[0m\u001b[0m\n\u001b[0;32m----> 2\u001b[0;31m \u001b[0mchocolate3\u001b[0m \u001b[0;34m=\u001b[0m \u001b[0mChocolate\u001b[0m\u001b[0;34m(\u001b[0m\u001b[0;34m-\u001b[0m\u001b[0;36m10.0\u001b[0m\u001b[0;34m)\u001b[0m\u001b[0;34m\u001b[0m\u001b[0;34m\u001b[0m\u001b[0m\n\u001b[0m\u001b[1;32m      3\u001b[0m \u001b[0mchocolate3\u001b[0m\u001b[0;34m.\u001b[0m\u001b[0mshow_my_chocolate\u001b[0m\u001b[0;34m(\u001b[0m\u001b[0;34m)\u001b[0m\u001b[0;34m\u001b[0m\u001b[0;34m\u001b[0m\u001b[0m\n\u001b[1;32m      4\u001b[0m \u001b[0mprint\u001b[0m\u001b[0;34m(\u001b[0m\u001b[0mchocolate3\u001b[0m\u001b[0;34m)\u001b[0m\u001b[0;34m\u001b[0m\u001b[0;34m\u001b[0m\u001b[0m\n",
            "\u001b[0;32m<ipython-input-1-a3e931306de7>\u001b[0m in \u001b[0;36m__init__\u001b[0;34m(self, price, addition)\u001b[0m\n\u001b[1;32m      2\u001b[0m     \u001b[0;32mdef\u001b[0m \u001b[0m__init__\u001b[0m\u001b[0;34m(\u001b[0m\u001b[0mself\u001b[0m\u001b[0;34m,\u001b[0m \u001b[0mprice\u001b[0m\u001b[0;34m:\u001b[0m \u001b[0mfloat\u001b[0m\u001b[0;34m,\u001b[0m \u001b[0maddition\u001b[0m\u001b[0;34m:\u001b[0m \u001b[0mstr\u001b[0m \u001b[0;34m=\u001b[0m \u001b[0;32mNone\u001b[0m\u001b[0;34m)\u001b[0m\u001b[0;34m:\u001b[0m\u001b[0;34m\u001b[0m\u001b[0;34m\u001b[0m\u001b[0m\n\u001b[1;32m      3\u001b[0m         \u001b[0;32mif\u001b[0m \u001b[0mprice\u001b[0m \u001b[0;34m<=\u001b[0m \u001b[0;36m0\u001b[0m\u001b[0;34m:\u001b[0m\u001b[0;34m\u001b[0m\u001b[0;34m\u001b[0m\u001b[0m\n\u001b[0;32m----> 4\u001b[0;31m             \u001b[0;32mraise\u001b[0m \u001b[0mValueError\u001b[0m\u001b[0;34m(\u001b[0m\u001b[0;34m\"Цена батончика должна быть больше нуля.\"\u001b[0m\u001b[0;34m)\u001b[0m\u001b[0;34m\u001b[0m\u001b[0;34m\u001b[0m\u001b[0m\n\u001b[0m\u001b[1;32m      5\u001b[0m         \u001b[0mself\u001b[0m\u001b[0;34m.\u001b[0m\u001b[0mprice\u001b[0m \u001b[0;34m=\u001b[0m \u001b[0mprice\u001b[0m\u001b[0;34m\u001b[0m\u001b[0;34m\u001b[0m\u001b[0m\n\u001b[1;32m      6\u001b[0m         \u001b[0mself\u001b[0m\u001b[0;34m.\u001b[0m\u001b[0maddition\u001b[0m \u001b[0;34m=\u001b[0m \u001b[0maddition\u001b[0m\u001b[0;34m\u001b[0m\u001b[0;34m\u001b[0m\u001b[0m\n",
            "\u001b[0;31mValueError\u001b[0m: Цена батончика должна быть больше нуля."
          ]
        }
      ]
    }
  ]
}